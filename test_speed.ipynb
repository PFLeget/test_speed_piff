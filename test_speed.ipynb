{
 "cells": [
  {
   "cell_type": "code",
   "execution_count": 1,
   "id": "1d82717c-1289-4645-80c5-ddc8581f318d",
   "metadata": {},
   "outputs": [],
   "source": [
    "import galsim\n",
    "import piff\n",
    "import numpy as np\n",
    "import matplotlib.pyplot as plt\n",
    "import pickle\n",
    "import copy\n",
    "import time\n",
    "import cProfile\n",
    "import pstats\n",
    "import jax\n",
    "from jax import config\n",
    "# if want to use float64 for jax, default will be float32 with jax\n",
    "# faster with float32...\n",
    "# config.update(\"jax_enable_x64\", True)"
   ]
  },
  {
   "cell_type": "code",
   "execution_count": 2,
   "id": "8a09b0c3-4fe0-4b41-a27e-4c46eaaa3278",
   "metadata": {},
   "outputs": [],
   "source": [
    "# load data from a single ccd from subaru. Use the exact same input\n",
    "# of what is coming in Piff in LSST stack (in meas_extensions_piff)\n",
    "\n",
    "dic = pickle.load(open('piff_input_2024-06-24_13-43-22.pkl', 'rb'))\n",
    "\n",
    "stars = dic['stars']\n",
    "wcs = dic['wcs']\n",
    "pointing = dic['pointing']\n",
    "piffConfig = dic['piffConfig']"
   ]
  },
  {
   "cell_type": "code",
   "execution_count": 3,
   "id": "d82c79aa-4d25-472a-890b-5dd556965794",
   "metadata": {},
   "outputs": [
    {
     "name": "stderr",
     "output_type": "stream",
     "text": [
      "Iteration 1: Fitting 118 stars\n"
     ]
    },
    {
     "name": "stdout",
     "output_type": "stream",
     "text": [
      "{'type': 'Simple', 'model': {'type': 'PixelGrid', 'scale': 0.16839226517851116, 'size': 25, 'interp': 'Lanczos(11)'}, 'interp': {'type': 'BasisPolynomial', 'order': 2}, 'outliers': {'type': 'Chisq', 'nsigma': 4.0, 'max_remove': 0.05}}\n"
     ]
    },
    {
     "name": "stderr",
     "output_type": "stream",
     "text": [
      "nq = 3750\n",
      "PF time to compute ATb and ATA: 3.077662 | use jax: False\n",
      "Beginning solution of matrix size (3750, 3750)\n",
      "PF: Not using JAX to solve the linear system | Time: 0.357351\n",
      "             Total chisq = 63222.52 / 72029 dof\n",
      "Iteration 2: Fitting 118 stars\n",
      "nq = 3750\n",
      "PF time to compute ATb and ATA: 3.060766 | use jax: False\n",
      "Beginning solution of matrix size (3750, 3750)\n",
      "PF: Not using JAX to solve the linear system | Time: 0.352146\n",
      "Found 9 stars with chisq > thresh\n",
      "             Removed 6 outliers\n",
      "             Total chisq = 44289.31 / 68419 dof\n",
      "Iteration 3: Fitting 112 stars\n",
      "nq = 3750\n",
      "PF time to compute ATb and ATA: 3.011620 | use jax: False\n",
      "Beginning solution of matrix size (3750, 3750)\n",
      "PF: Not using JAX to solve the linear system | Time: 0.363533\n",
      "Found 3 stars with chisq > thresh\n",
      "             Removed 3 outliers\n",
      "             Total chisq = 41842.70 / 66603 dof\n",
      "Iteration 4: Fitting 109 stars\n",
      "nq = 3750\n",
      "PF time to compute ATb and ATA: 2.818668 | use jax: False\n",
      "Beginning solution of matrix size (3750, 3750)\n",
      "PF: Not using JAX to solve the linear system | Time: 0.357679\n",
      "             Total chisq = 41825.33 / 66603 dof\n"
     ]
    },
    {
     "name": "stdout",
     "output_type": "stream",
     "text": [
      "Total run time: 15.556748867034912\n",
      "Thu Jun 27 01:33:24 2024    profile_data\n",
      "\n",
      "         1893509 function calls (1881043 primitive calls) in 15.552 seconds\n",
      "\n",
      "   Ordered by: cumulative time\n",
      "   List reduced from 490 to 20 due to restriction <20>\n",
      "\n",
      "   ncalls  tottime  percall  cumtime  percall filename:lineno(function)\n",
      "        1    0.000    0.000   15.552   15.552 {built-in method builtins.exec}\n",
      "        1    0.000    0.000   15.552   15.552 <string>:1(<module>)\n",
      "        1    0.021    0.021   15.552   15.552 2749334822.py:8(my_function)\n",
      "        1    0.072    0.072   15.531   15.531 simplepsf.py:103(fit)\n",
      "        4    0.017    0.004   13.454    3.363 basis_interp.py:130(solve)\n",
      "        4   10.832    2.708   13.436    3.359 basis_interp.py:280(_solve_direct)\n",
      "        4    1.425    0.356    1.425    0.356 _basic.py:52(solve)\n",
      "      457    0.770    0.002    1.317    0.003 pixelgrid.py:195(chisq)\n",
      "     2285    1.107    0.000    1.107    0.000 {method 'dot' of 'numpy.ndarray' objects}\n",
      "      457    0.001    0.000    1.067    0.002 star.py:901(alpha)\n",
      "     1371    0.003    0.000    0.292    0.000 pixelgrid.py:440(getProfile)\n",
      "      457    0.016    0.000    0.284    0.001 model.py:110(reflux)\n",
      "     1372    0.011    0.000    0.277    0.000 interpolatedimage.py:303(__init__)\n",
      "        4    0.000    0.000    0.254    0.063 psf.py:302(drawStarList)\n",
      "        4    0.000    0.000    0.254    0.063 psf.py:328(<listcomp>)\n",
      "      457    0.009    0.000    0.253    0.001 simplepsf.py:269(_drawStar)\n",
      "      457    0.003    0.000    0.244    0.001 model.py:223(draw)\n",
      "   564462    0.203    0.000    0.203    0.000 {method 'ravel' of 'numpy.ndarray' objects}\n",
      "     1828    0.012    0.000    0.184    0.000 gsobject.py:1284(drawImage)\n",
      "     1372    0.111    0.000    0.144    0.000 interpolatedimage.py:613(_getMaxK)\n",
      "\n",
      "\n"
     ]
    },
    {
     "data": {
      "text/plain": [
       "<pstats.Stats at 0x35590c640>"
      ]
     },
     "execution_count": 3,
     "metadata": {},
     "output_type": "execute_result"
    }
   ],
   "source": [
    "# run piff with current config in LSST stack\n",
    "\n",
    "print(piffConfig)\n",
    "piffResult = piff.PSF.process(piffConfig)\n",
    "logger = piff.config.setup_logger(verbose=2)\n",
    "piffResult = piff.PSF.process(piffConfig)\n",
    "\n",
    "def my_function():\n",
    "    piffResult.fit(stars, wcs, pointing, logger=logger)\n",
    "\n",
    "start = time.time()\n",
    "cProfile.run('my_function()', 'profile_data')\n",
    "end = time.time()\n",
    "\n",
    "print('Total run time: ' + str(end - start))\n",
    "\n",
    "p = pstats.Stats('profile_data')\n",
    "p.strip_dirs().sort_stats('cumulative').print_stats(20)"
   ]
  },
  {
   "cell_type": "code",
   "execution_count": 4,
   "id": "98096b62-f797-4ca5-8979-a97a6ab37162",
   "metadata": {},
   "outputs": [
    {
     "name": "stderr",
     "output_type": "stream",
     "text": [
      "Iteration 1: Fitting 118 stars\n"
     ]
    },
    {
     "name": "stdout",
     "output_type": "stream",
     "text": [
      "{'type': 'Simple', 'model': {'type': 'PixelGrid', 'scale': 0.16839226517851116, 'size': 25, 'interp': 'Lanczos(11)'}, 'interp': {'type': 'BasisPolynomial', 'order': 2, 'use_jax': True}, 'outliers': {'type': 'Chisq', 'nsigma': 4.0, 'max_remove': 0.05}}\n"
     ]
    },
    {
     "name": "stderr",
     "output_type": "stream",
     "text": [
      "nq = 3750\n",
      "PF time to compute ATb and ATA: 1.119895 | use jax: True\n",
      "Beginning solution of matrix size (3750, 3750)\n",
      "PF: Use JAX to solve the linear system | Time: 0.124662\n",
      "             Total chisq = 63222.52 / 72029 dof\n",
      "Iteration 2: Fitting 118 stars\n",
      "nq = 3750\n",
      "PF time to compute ATb and ATA: 1.036825 | use jax: True\n",
      "Beginning solution of matrix size (3750, 3750)\n",
      "PF: Use JAX to solve the linear system | Time: 0.093753\n",
      "Found 9 stars with chisq > thresh\n",
      "             Removed 6 outliers\n",
      "             Total chisq = 44289.31 / 68419 dof\n",
      "Iteration 3: Fitting 112 stars\n",
      "nq = 3750\n",
      "PF time to compute ATb and ATA: 1.024430 | use jax: True\n",
      "Beginning solution of matrix size (3750, 3750)\n",
      "PF: Use JAX to solve the linear system | Time: 0.098193\n",
      "Found 3 stars with chisq > thresh\n",
      "             Removed 3 outliers\n",
      "             Total chisq = 41842.70 / 66603 dof\n",
      "Iteration 4: Fitting 109 stars\n",
      "nq = 3750\n",
      "PF time to compute ATb and ATA: 1.137896 | use jax: True\n",
      "Beginning solution of matrix size (3750, 3750)\n",
      "PF: Use JAX to solve the linear system | Time: 0.083430\n",
      "             Total chisq = 41825.33 / 66603 dof\n"
     ]
    },
    {
     "name": "stdout",
     "output_type": "stream",
     "text": [
      "Total run time: 7.0860679149627686\n",
      "Thu Jun 27 01:33:34 2024    profile_data\n",
      "\n",
      "         2016768 function calls (2003093 primitive calls) in 7.078 seconds\n",
      "\n",
      "   Ordered by: cumulative time\n",
      "   List reduced from 2146 to 20 due to restriction <20>\n",
      "\n",
      "   ncalls  tottime  percall  cumtime  percall filename:lineno(function)\n",
      "      9/1    0.000    0.000    7.079    7.079 {built-in method builtins.exec}\n",
      "        1    0.000    0.000    7.079    7.079 <string>:1(<module>)\n",
      "        1    0.022    0.022    7.079    7.079 3036657732.py:10(my_function)\n",
      "        1    0.153    0.153    7.056    7.056 simplepsf.py:103(fit)\n",
      "        4    0.041    0.010    4.820    1.205 basis_interp.py:130(solve)\n",
      "        4    1.102    0.276    4.779    1.195 basis_interp.py:280(_solve_direct)\n",
      "   144/76    0.000    0.000    2.386    0.031 core.py:389(bind_with_trace)\n",
      "     34/8    0.000    0.000    2.385    0.298 traceback_util.py:175(reraise_with_filtered_traceback)\n",
      "     30/8    0.000    0.000    2.385    0.298 pjit.py:302(cache_miss)\n",
      "     30/8    0.000    0.000    2.385    0.298 pjit.py:169(_python_pjit_helper)\n",
      "    16/14    0.000    0.000    2.379    0.170 core.py:873(process_primitive)\n",
      "    35/31    0.000    0.000    2.366    0.076 core.py:2783(bind)\n",
      "        8    0.000    0.000    2.361    0.295 pjit.py:1503(_pjit_call_impl)\n",
      "        8    0.000    0.000    2.360    0.295 pjit.py:1507(call_impl_cache_miss)\n",
      "        8    0.000    0.000    2.360    0.295 pjit.py:1429(_pjit_call_impl_python)\n",
      "    65/29    0.000    0.000    2.353    0.081 profiler.py:332(wrapper)\n",
      "        8    2.131    0.266    2.198    0.275 pxla.py:1168(__call__)\n",
      "      457    0.793    0.002    1.326    0.003 pixelgrid.py:195(chisq)\n",
      "     2285    1.126    0.000    1.126    0.000 {method 'dot' of 'numpy.ndarray' objects}\n",
      "      457    0.000    0.000    1.082    0.002 star.py:901(alpha)\n",
      "\n",
      "\n"
     ]
    },
    {
     "data": {
      "text/plain": [
       "<pstats.Stats at 0x107a7df60>"
      ]
     },
     "execution_count": 4,
     "metadata": {},
     "output_type": "execute_result"
    }
   ],
   "source": [
    "# enable jax just in some part of basis interp (mostly in _solve_direct)\n",
    "\n",
    "jaxPiffConfig = copy.deepcopy(piffConfig)\n",
    "jaxPiffConfig['interp'].update({'use_jax': True})\n",
    "print(jaxPiffConfig)\n",
    "\n",
    "logger = piff.config.setup_logger(verbose=2)\n",
    "piffResult = piff.PSF.process(jaxPiffConfig)\n",
    "\n",
    "def my_function():\n",
    "    piffResult.fit(stars, wcs, pointing, logger=logger)\n",
    "\n",
    "start = time.time()\n",
    "cProfile.run('my_function()', 'profile_data')\n",
    "end = time.time()\n",
    "\n",
    "print('Total run time: ' + str(end - start))\n",
    "\n",
    "p = pstats.Stats('profile_data')\n",
    "p.strip_dirs().sort_stats('cumulative').print_stats(20)"
   ]
  },
  {
   "cell_type": "code",
   "execution_count": null,
   "id": "6f2cd582-5bc4-434e-b0bd-630df5e6786b",
   "metadata": {},
   "outputs": [],
   "source": []
  }
 ],
 "metadata": {
  "kernelspec": {
   "display_name": "Python 3 (ipykernel)",
   "language": "python",
   "name": "python3"
  },
  "language_info": {
   "codemirror_mode": {
    "name": "ipython",
    "version": 3
   },
   "file_extension": ".py",
   "mimetype": "text/x-python",
   "name": "python",
   "nbconvert_exporter": "python",
   "pygments_lexer": "ipython3",
   "version": "3.10.14"
  }
 },
 "nbformat": 4,
 "nbformat_minor": 5
}
