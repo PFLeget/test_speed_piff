{
 "cells": [
  {
   "cell_type": "code",
   "execution_count": 1,
   "id": "1d82717c-1289-4645-80c5-ddc8581f318d",
   "metadata": {},
   "outputs": [],
   "source": [
    "import galsim\n",
    "import piff\n",
    "import numpy as np\n",
    "import matplotlib.pyplot as plt\n",
    "import pickle\n",
    "import copy\n",
    "import time\n",
    "import cProfile\n",
    "import pstats\n",
    "import jax\n",
    "from jax import config\n",
    "# if want to use float64 for jax, default will be float32 with jax\n",
    "# faster with float32...\n",
    "# config.update(\"jax_enable_x64\", True)"
   ]
  },
  {
   "cell_type": "code",
   "execution_count": 2,
   "id": "8a09b0c3-4fe0-4b41-a27e-4c46eaaa3278",
   "metadata": {},
   "outputs": [],
   "source": [
    "# load data from a single ccd from subaru. Use the exact same input\n",
    "# of what is coming in Piff in LSST stack (in meas_extensions_piff)\n",
    "\n",
    "dic = pickle.load(open('piff_input_2024-06-24_13-43-22.pkl', 'rb'))\n",
    "\n",
    "stars = dic['stars']\n",
    "wcs = dic['wcs']\n",
    "pointing = dic['pointing']\n",
    "piffConfig = dic['piffConfig']"
   ]
  },
  {
   "cell_type": "code",
   "execution_count": 3,
   "id": "d82c79aa-4d25-472a-890b-5dd556965794",
   "metadata": {},
   "outputs": [
    {
     "name": "stderr",
     "output_type": "stream",
     "text": [
      "Iteration 1: Fitting 118 stars\n"
     ]
    },
    {
     "name": "stdout",
     "output_type": "stream",
     "text": [
      "{'type': 'Simple', 'model': {'type': 'PixelGrid', 'scale': 0.16839226517851116, 'size': 25, 'interp': 'Lanczos(11)'}, 'interp': {'type': 'BasisPolynomial', 'order': 2}, 'outliers': {'type': 'Chisq', 'nsigma': 4.0, 'max_remove': 0.05}}\n"
     ]
    },
    {
     "name": "stderr",
     "output_type": "stream",
     "text": [
      "nq = 3750\n",
      "PF time to compute ATb and ATA: 3.094912 | use jax: False\n",
      "Beginning solution of matrix size (3750, 3750)\n",
      "PF: Not using JAX to solve the linear system | Time: 0.354791\n",
      "             Total chisq = 63222.52 / 72029 dof\n",
      "Iteration 2: Fitting 118 stars\n",
      "nq = 3750\n",
      "PF time to compute ATb and ATA: 3.048380 | use jax: False\n",
      "Beginning solution of matrix size (3750, 3750)\n",
      "PF: Not using JAX to solve the linear system | Time: 0.373044\n",
      "Found 9 stars with chisq > thresh\n",
      "             Removed 6 outliers\n",
      "             Total chisq = 44289.31 / 68419 dof\n",
      "Iteration 3: Fitting 112 stars\n",
      "nq = 3750\n",
      "PF time to compute ATb and ATA: 3.140364 | use jax: False\n",
      "Beginning solution of matrix size (3750, 3750)\n",
      "PF: Not using JAX to solve the linear system | Time: 0.351064\n",
      "Found 3 stars with chisq > thresh\n",
      "             Removed 3 outliers\n",
      "             Total chisq = 41842.70 / 66603 dof\n",
      "Iteration 4: Fitting 109 stars\n",
      "nq = 3750\n",
      "PF time to compute ATb and ATA: 2.970835 | use jax: False\n",
      "Beginning solution of matrix size (3750, 3750)\n",
      "PF: Not using JAX to solve the linear system | Time: 0.346450\n",
      "             Total chisq = 41825.33 / 66603 dof\n"
     ]
    },
    {
     "name": "stdout",
     "output_type": "stream",
     "text": [
      "Total run time: 15.903011798858643\n",
      "Thu Jun 27 01:01:37 2024    profile_data\n",
      "\n",
      "         1893498 function calls (1881032 primitive calls) in 15.900 seconds\n",
      "\n",
      "   Ordered by: cumulative time\n",
      "   List reduced from 490 to 20 due to restriction <20>\n",
      "\n",
      "   ncalls  tottime  percall  cumtime  percall filename:lineno(function)\n",
      "        1    0.000    0.000   15.900   15.900 {built-in method builtins.exec}\n",
      "        1    0.000    0.000   15.900   15.900 <string>:1(<module>)\n",
      "        1    0.018    0.018   15.900   15.900 2749334822.py:8(my_function)\n",
      "        1    0.058    0.058   15.882   15.882 simplepsf.py:103(fit)\n",
      "        4    0.017    0.004   13.745    3.436 basis_interp.py:130(solve)\n",
      "        4   10.933    2.733   13.728    3.432 basis_interp.py:280(_solve_direct)\n",
      "        4    1.420    0.355    1.420    0.355 _basic.py:52(solve)\n",
      "      457    0.803    0.002    1.363    0.003 pixelgrid.py:195(chisq)\n",
      "     2285    1.290    0.001    1.290    0.001 {method 'dot' of 'numpy.ndarray' objects}\n",
      "      457    0.001    0.000    1.218    0.003 star.py:901(alpha)\n",
      "      457    0.022    0.000    0.332    0.001 model.py:110(reflux)\n",
      "     1371    0.003    0.000    0.302    0.000 pixelgrid.py:440(getProfile)\n",
      "     1372    0.012    0.000    0.287    0.000 interpolatedimage.py:303(__init__)\n",
      "        4    0.000    0.000    0.245    0.061 psf.py:302(drawStarList)\n",
      "        4    0.000    0.000    0.245    0.061 psf.py:328(<listcomp>)\n",
      "      457    0.011    0.000    0.245    0.001 simplepsf.py:269(_drawStar)\n",
      "      457    0.004    0.000    0.234    0.001 model.py:223(draw)\n",
      "   564462    0.216    0.000    0.216    0.000 {method 'ravel' of 'numpy.ndarray' objects}\n",
      "     1828    0.013    0.000    0.188    0.000 gsobject.py:1284(drawImage)\n",
      "     1372    0.111    0.000    0.144    0.000 interpolatedimage.py:613(_getMaxK)\n",
      "\n",
      "\n"
     ]
    },
    {
     "data": {
      "text/plain": [
       "<pstats.Stats at 0x31dc8f640>"
      ]
     },
     "execution_count": 3,
     "metadata": {},
     "output_type": "execute_result"
    }
   ],
   "source": [
    "# run piff with current config in LSST stack\n",
    "\n",
    "print(piffConfig)\n",
    "piffResult = piff.PSF.process(piffConfig)\n",
    "logger = piff.config.setup_logger(verbose=2)\n",
    "piffResult = piff.PSF.process(piffConfig)\n",
    "\n",
    "def my_function():\n",
    "    piffResult.fit(stars, wcs, pointing, logger=logger)\n",
    "\n",
    "start = time.time()\n",
    "cProfile.run('my_function()', 'profile_data')\n",
    "end = time.time()\n",
    "\n",
    "print('Total run time: ' + str(end - start))\n",
    "\n",
    "p = pstats.Stats('profile_data')\n",
    "p.strip_dirs().sort_stats('cumulative').print_stats(20)"
   ]
  },
  {
   "cell_type": "code",
   "execution_count": 4,
   "id": "98096b62-f797-4ca5-8979-a97a6ab37162",
   "metadata": {},
   "outputs": [
    {
     "name": "stderr",
     "output_type": "stream",
     "text": [
      "Iteration 1: Fitting 118 stars\n"
     ]
    },
    {
     "name": "stdout",
     "output_type": "stream",
     "text": [
      "{'type': 'Simple', 'model': {'type': 'PixelGrid', 'scale': 0.16839226517851116, 'size': 25, 'interp': 'Lanczos(11)'}, 'interp': {'type': 'BasisPolynomial', 'order': 2, 'use_jax': True}, 'outliers': {'type': 'Chisq', 'nsigma': 4.0, 'max_remove': 0.05}}\n"
     ]
    },
    {
     "name": "stderr",
     "output_type": "stream",
     "text": [
      "nq = 3750\n",
      "PF time to compute ATb and ATA: 1.143394 | use jax: True\n",
      "Beginning solution of matrix size (3750, 3750)\n",
      "PF: Use JAX to solve the linear system | Time: 0.118327\n",
      "             Total chisq = 63222.52 / 72029 dof\n",
      "Iteration 2: Fitting 118 stars\n",
      "nq = 3750\n",
      "PF time to compute ATb and ATA: 1.043012 | use jax: True\n",
      "Beginning solution of matrix size (3750, 3750)\n",
      "PF: Use JAX to solve the linear system | Time: 0.085137\n",
      "Found 9 stars with chisq > thresh\n",
      "             Removed 6 outliers\n",
      "             Total chisq = 44289.31 / 68419 dof\n",
      "Iteration 3: Fitting 112 stars\n",
      "nq = 3750\n",
      "PF time to compute ATb and ATA: 1.029485 | use jax: True\n",
      "Beginning solution of matrix size (3750, 3750)\n",
      "PF: Use JAX to solve the linear system | Time: 0.087024\n",
      "Found 3 stars with chisq > thresh\n",
      "             Removed 3 outliers\n",
      "             Total chisq = 41842.70 / 66603 dof\n",
      "Iteration 4: Fitting 109 stars\n",
      "nq = 3750\n",
      "PF time to compute ATb and ATA: 1.017584 | use jax: True\n",
      "Beginning solution of matrix size (3750, 3750)\n",
      "PF: Use JAX to solve the linear system | Time: 0.103092\n",
      "             Total chisq = 41825.33 / 66603 dof\n"
     ]
    },
    {
     "name": "stdout",
     "output_type": "stream",
     "text": [
      "Total run time: 6.954502105712891\n",
      "Thu Jun 27 01:01:54 2024    profile_data\n",
      "\n",
      "         2016753 function calls (2003080 primitive calls) in 6.942 seconds\n",
      "\n",
      "   Ordered by: cumulative time\n",
      "   List reduced from 2146 to 20 due to restriction <20>\n",
      "\n",
      "   ncalls  tottime  percall  cumtime  percall filename:lineno(function)\n",
      "      9/1    0.000    0.000    6.943    6.943 {built-in method builtins.exec}\n",
      "        1    0.000    0.000    6.943    6.943 <string>:1(<module>)\n",
      "        1    0.022    0.022    6.943    6.943 3036657732.py:10(my_function)\n",
      "        1    0.096    0.096    6.922    6.922 simplepsf.py:103(fit)\n",
      "        4    0.039    0.010    4.740    1.185 basis_interp.py:130(solve)\n",
      "        4    1.069    0.267    4.701    1.175 basis_interp.py:280(_solve_direct)\n",
      "     34/8    0.000    0.000    2.406    0.301 traceback_util.py:175(reraise_with_filtered_traceback)\n",
      "     30/8    0.000    0.000    2.406    0.301 pjit.py:302(cache_miss)\n",
      "     30/8    0.000    0.000    2.405    0.301 pjit.py:169(_python_pjit_helper)\n",
      "   144/76    0.000    0.000    2.405    0.032 core.py:389(bind_with_trace)\n",
      "    16/14    0.000    0.000    2.398    0.171 core.py:873(process_primitive)\n",
      "    35/31    0.000    0.000    2.383    0.077 core.py:2783(bind)\n",
      "    65/29    0.000    0.000    2.378    0.082 profiler.py:332(wrapper)\n",
      "        8    0.000    0.000    2.378    0.297 pjit.py:1503(_pjit_call_impl)\n",
      "        8    0.000    0.000    2.377    0.297 pjit.py:1507(call_impl_cache_miss)\n",
      "        8    0.000    0.000    2.377    0.297 pjit.py:1429(_pjit_call_impl_python)\n",
      "        8    2.144    0.268    2.209    0.276 pxla.py:1168(__call__)\n",
      "      457    0.812    0.002    1.365    0.003 pixelgrid.py:195(chisq)\n",
      "     2285    1.030    0.000    1.030    0.000 {method 'dot' of 'numpy.ndarray' objects}\n",
      "      457    0.000    0.000    0.994    0.002 star.py:901(alpha)\n",
      "\n",
      "\n"
     ]
    },
    {
     "data": {
      "text/plain": [
       "<pstats.Stats at 0x123755d80>"
      ]
     },
     "execution_count": 4,
     "metadata": {},
     "output_type": "execute_result"
    }
   ],
   "source": [
    "# enable jax just in some part of basis interp (mostly in _solve_direct)\n",
    "\n",
    "jaxPiffConfig = copy.deepcopy(piffConfig)\n",
    "jaxPiffConfig['interp'].update({'use_jax': True})\n",
    "print(jaxPiffConfig)\n",
    "\n",
    "logger = piff.config.setup_logger(verbose=2)\n",
    "piffResult = piff.PSF.process(jaxPiffConfig)\n",
    "\n",
    "def my_function():\n",
    "    piffResult.fit(stars, wcs, pointing, logger=logger)\n",
    "\n",
    "start = time.time()\n",
    "cProfile.run('my_function()', 'profile_data')\n",
    "end = time.time()\n",
    "\n",
    "print('Total run time: ' + str(end - start))\n",
    "\n",
    "p = pstats.Stats('profile_data')\n",
    "p.strip_dirs().sort_stats('cumulative').print_stats(20)"
   ]
  },
  {
   "cell_type": "code",
   "execution_count": null,
   "id": "6f2cd582-5bc4-434e-b0bd-630df5e6786b",
   "metadata": {},
   "outputs": [],
   "source": []
  }
 ],
 "metadata": {
  "kernelspec": {
   "display_name": "Python 3 (ipykernel)",
   "language": "python",
   "name": "python3"
  },
  "language_info": {
   "codemirror_mode": {
    "name": "ipython",
    "version": 3
   },
   "file_extension": ".py",
   "mimetype": "text/x-python",
   "name": "python",
   "nbconvert_exporter": "python",
   "pygments_lexer": "ipython3",
   "version": "3.10.14"
  }
 },
 "nbformat": 4,
 "nbformat_minor": 5
}
